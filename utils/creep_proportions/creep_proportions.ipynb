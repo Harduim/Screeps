{
 "cells": [
  {
   "cell_type": "code",
   "execution_count": 95,
   "metadata": {},
   "outputs": [],
   "source": [
    "import numpy as np\n",
    "import pandas as pd\n",
    "import plotly.express as px\n",
    "from itertools import product\n",
    "\n",
    "pd.options.plotting.backend = \"plotly\""
   ]
  },
  {
   "cell_type": "code",
   "execution_count": 96,
   "metadata": {},
   "outputs": [],
   "source": [
    "# https://docs.screeps.com/api/#Creep\n",
    "CREEP_TICKS_LIFE = 1500\n",
    "MAX_BODY_SIZE = 50"
   ]
  },
  {
   "cell_type": "code",
   "execution_count": 97,
   "metadata": {},
   "outputs": [
    {
     "data": {
      "text/plain": [
       "[1, 2, 3, 4, 5, 6, 7, 8, 9, 10, 11, 12, 13, 14, 15, 16]"
      ]
     },
     "execution_count": 97,
     "metadata": {},
     "output_type": "execute_result"
    }
   ],
   "source": [
    "# Assuming one moving part for each carry part\n",
    "actual_max_size = round(MAX_BODY_SIZE / 3)\n",
    "work_parts = [*range(1, actual_max_size)]\n",
    "carry_parts = [*range(1, actual_max_size)]\n",
    "carry_parts"
   ]
  },
  {
   "cell_type": "code",
   "execution_count": 98,
   "metadata": {},
   "outputs": [],
   "source": [
    "def harvested_tick(work):\n",
    "    return work * 2\n",
    "\n",
    "def capacity(carry):\n",
    "    return carry * 50\n",
    "\n",
    "def ticks_to_full(work, carry):\n",
    "    return capacity(carry) / harvested_tick(work)\n",
    "\n",
    "def round_trip(work, carry, distance=20):\n",
    "    return (distance * 2) + ticks_to_full(work, carry) + 1\n",
    "\n",
    "def body_cost(work, carry):\n",
    "    move = carry\n",
    "    return work * 100 + carry * 50 + move * 50\n",
    "\n",
    "def profit(work, carry):\n",
    "    return round(CREEP_TICKS_LIFE / round_trip(work, carry) * capacity(carry) - body_cost(work, carry))\n",
    "\n",
    "def cost_benefit(work, carry):\n",
    "    return profit(work, carry) / body_cost(work, carry)"
   ]
  },
  {
   "cell_type": "code",
   "execution_count": 99,
   "metadata": {},
   "outputs": [
    {
     "data": {
      "text/plain": [
       "4.682"
      ]
     },
     "execution_count": 99,
     "metadata": {},
     "output_type": "execute_result"
    }
   ],
   "source": [
    "cost_benefit(5, 5)"
   ]
  },
  {
   "cell_type": "code",
   "execution_count": 100,
   "metadata": {},
   "outputs": [],
   "source": [
    "cost_benefit_heatmap = list(map(lambda wc: [str(wc), wc[0], wc[1], cost_benefit(*wc)], product(work_parts, carry_parts)))"
   ]
  },
  {
   "cell_type": "code",
   "execution_count": 105,
   "metadata": {},
   "outputs": [
    {
     "data": {
      "text/html": [
       "<div>\n",
       "<style scoped>\n",
       "    .dataframe tbody tr th:only-of-type {\n",
       "        vertical-align: middle;\n",
       "    }\n",
       "\n",
       "    .dataframe tbody tr th {\n",
       "        vertical-align: top;\n",
       "    }\n",
       "\n",
       "    .dataframe thead th {\n",
       "        text-align: right;\n",
       "    }\n",
       "</style>\n",
       "<table border=\"1\" class=\"dataframe\">\n",
       "  <thead>\n",
       "    <tr style=\"text-align: right;\">\n",
       "      <th></th>\n",
       "      <th>body</th>\n",
       "      <th>work_parts</th>\n",
       "      <th>carry_parts</th>\n",
       "      <th>cost_benefit</th>\n",
       "      <th>ratio</th>\n",
       "    </tr>\n",
       "  </thead>\n",
       "  <tbody>\n",
       "    <tr>\n",
       "      <th>240</th>\n",
       "      <td>(16, 1)</td>\n",
       "      <td>16</td>\n",
       "      <td>1</td>\n",
       "      <td>0.036471</td>\n",
       "      <td>0.062500</td>\n",
       "    </tr>\n",
       "    <tr>\n",
       "      <th>224</th>\n",
       "      <td>(15, 1)</td>\n",
       "      <td>15</td>\n",
       "      <td>1</td>\n",
       "      <td>0.098750</td>\n",
       "      <td>0.066667</td>\n",
       "    </tr>\n",
       "    <tr>\n",
       "      <th>208</th>\n",
       "      <td>(14, 1)</td>\n",
       "      <td>14</td>\n",
       "      <td>1</td>\n",
       "      <td>0.168667</td>\n",
       "      <td>0.071429</td>\n",
       "    </tr>\n",
       "    <tr>\n",
       "      <th>192</th>\n",
       "      <td>(13, 1)</td>\n",
       "      <td>13</td>\n",
       "      <td>1</td>\n",
       "      <td>0.247857</td>\n",
       "      <td>0.076923</td>\n",
       "    </tr>\n",
       "    <tr>\n",
       "      <th>176</th>\n",
       "      <td>(12, 1)</td>\n",
       "      <td>12</td>\n",
       "      <td>1</td>\n",
       "      <td>0.339231</td>\n",
       "      <td>0.083333</td>\n",
       "    </tr>\n",
       "    <tr>\n",
       "      <th>...</th>\n",
       "      <td>...</td>\n",
       "      <td>...</td>\n",
       "      <td>...</td>\n",
       "      <td>...</td>\n",
       "      <td>...</td>\n",
       "    </tr>\n",
       "    <tr>\n",
       "      <th>190</th>\n",
       "      <td>(12, 15)</td>\n",
       "      <td>12</td>\n",
       "      <td>15</td>\n",
       "      <td>4.767037</td>\n",
       "      <td>1.250000</td>\n",
       "    </tr>\n",
       "    <tr>\n",
       "      <th>121</th>\n",
       "      <td>(8, 10)</td>\n",
       "      <td>8</td>\n",
       "      <td>10</td>\n",
       "      <td>4.767222</td>\n",
       "      <td>1.250000</td>\n",
       "    </tr>\n",
       "    <tr>\n",
       "      <th>156</th>\n",
       "      <td>(10, 13)</td>\n",
       "      <td>10</td>\n",
       "      <td>13</td>\n",
       "      <td>4.767391</td>\n",
       "      <td>1.300000</td>\n",
       "    </tr>\n",
       "    <tr>\n",
       "      <th>173</th>\n",
       "      <td>(11, 14)</td>\n",
       "      <td>11</td>\n",
       "      <td>14</td>\n",
       "      <td>4.767600</td>\n",
       "      <td>1.272727</td>\n",
       "    </tr>\n",
       "    <tr>\n",
       "      <th>104</th>\n",
       "      <td>(7, 9)</td>\n",
       "      <td>7</td>\n",
       "      <td>9</td>\n",
       "      <td>4.768125</td>\n",
       "      <td>1.285714</td>\n",
       "    </tr>\n",
       "  </tbody>\n",
       "</table>\n",
       "<p>256 rows × 5 columns</p>\n",
       "</div>"
      ],
      "text/plain": [
       "         body  work_parts  carry_parts  cost_benefit     ratio\n",
       "240   (16, 1)          16            1      0.036471  0.062500\n",
       "224   (15, 1)          15            1      0.098750  0.066667\n",
       "208   (14, 1)          14            1      0.168667  0.071429\n",
       "192   (13, 1)          13            1      0.247857  0.076923\n",
       "176   (12, 1)          12            1      0.339231  0.083333\n",
       "..        ...         ...          ...           ...       ...\n",
       "190  (12, 15)          12           15      4.767037  1.250000\n",
       "121   (8, 10)           8           10      4.767222  1.250000\n",
       "156  (10, 13)          10           13      4.767391  1.300000\n",
       "173  (11, 14)          11           14      4.767600  1.272727\n",
       "104    (7, 9)           7            9      4.768125  1.285714\n",
       "\n",
       "[256 rows x 5 columns]"
      ]
     },
     "execution_count": 105,
     "metadata": {},
     "output_type": "execute_result"
    }
   ],
   "source": [
    "df = pd.DataFrame(cost_benefit_heatmap, columns=[\"body\",\"work_parts\", \"carry_parts\", \"cost_benefit\"])\n",
    "df[\"ratio\"] = df['carry_parts'] / df['work_parts']\n",
    "df = df.sort_values(by=\"cost_benefit\")\n",
    "df"
   ]
  },
  {
   "cell_type": "code",
   "execution_count": 106,
   "metadata": {},
   "outputs": [
    {
     "data": {
      "application/vnd.plotly.v1+json": {
       "config": {
        "plotlyServerURL": "https://plot.ly"
       },
       "data": [
        {
         "hovertemplate": "body=%{x}<br>cost_benefit=%{y}<extra></extra>",
         "legendgroup": "",
         "marker": {
          "color": "#636efa",
          "symbol": "circle"
         },
         "mode": "markers",
         "name": "",
         "orientation": "v",
         "showlegend": false,
         "type": "scatter",
         "x": [
          "(16, 1)",
          "(15, 1)",
          "(14, 1)",
          "(13, 1)",
          "(12, 1)",
          "(11, 1)",
          "(10, 1)",
          "(1, 16)",
          "(1, 15)",
          "(9, 1)",
          "(1, 14)",
          "(16, 2)",
          "(8, 1)",
          "(1, 13)",
          "(15, 2)",
          "(1, 12)",
          "(14, 2)",
          "(7, 1)",
          "(1, 11)",
          "(13, 2)",
          "(1, 10)",
          "(12, 2)",
          "(6, 1)",
          "(11, 2)",
          "(1, 9)",
          "(16, 3)",
          "(5, 1)",
          "(15, 3)",
          "(10, 2)",
          "(2, 16)",
          "(1, 8)",
          "(14, 3)",
          "(2, 15)",
          "(9, 2)",
          "(13, 3)",
          "(2, 14)",
          "(1, 7)",
          "(4, 1)",
          "(16, 4)",
          "(12, 3)",
          "(8, 2)",
          "(2, 13)",
          "(15, 4)",
          "(11, 3)",
          "(2, 12)",
          "(1, 6)",
          "(14, 4)",
          "(7, 2)",
          "(2, 11)",
          "(10, 3)",
          "(3, 16)",
          "(13, 4)",
          "(16, 5)",
          "(3, 15)",
          "(1, 5)",
          "(2, 10)",
          "(3, 1)",
          "(15, 5)",
          "(12, 4)",
          "(9, 3)",
          "(6, 2)",
          "(3, 14)",
          "(14, 5)",
          "(11, 4)",
          "(2, 9)",
          "(16, 6)",
          "(8, 3)",
          "(3, 13)",
          "(13, 5)",
          "(10, 4)",
          "(5, 2)",
          "(15, 6)",
          "(2, 8)",
          "(3, 12)",
          "(4, 16)",
          "(1, 4)",
          "(12, 5)",
          "(14, 6)",
          "(7, 3)",
          "(4, 15)",
          "(16, 7)",
          "(9, 4)",
          "(3, 11)",
          "(11, 5)",
          "(13, 6)",
          "(15, 7)",
          "(4, 14)",
          "(2, 7)",
          "(3, 10)",
          "(8, 4)",
          "(10, 5)",
          "(12, 6)",
          "(14, 7)",
          "(16, 8)",
          "(2, 1)",
          "(4, 2)",
          "(6, 3)",
          "(4, 13)",
          "(5, 16)",
          "(15, 8)",
          "(13, 7)",
          "(11, 6)",
          "(2, 6)",
          "(5, 15)",
          "(3, 9)",
          "(4, 12)",
          "(1, 3)",
          "(9, 5)",
          "(16, 9)",
          "(7, 4)",
          "(14, 8)",
          "(12, 7)",
          "(5, 14)",
          "(4, 11)",
          "(15, 9)",
          "(5, 3)",
          "(10, 6)",
          "(3, 8)",
          "(6, 16)",
          "(13, 8)",
          "(16, 10)",
          "(8, 5)",
          "(5, 13)",
          "(11, 7)",
          "(14, 9)",
          "(2, 5)",
          "(4, 10)",
          "(6, 15)",
          "(9, 6)",
          "(6, 4)",
          "(3, 2)",
          "(15, 10)",
          "(12, 8)",
          "(5, 12)",
          "(16, 11)",
          "(13, 9)",
          "(10, 7)",
          "(6, 14)",
          "(3, 7)",
          "(7, 5)",
          "(14, 10)",
          "(7, 16)",
          "(11, 8)",
          "(4, 9)",
          "(15, 11)",
          "(5, 11)",
          "(8, 6)",
          "(12, 9)",
          "(16, 12)",
          "(4, 3)",
          "(6, 13)",
          "(7, 15)",
          "(13, 10)",
          "(9, 7)",
          "(14, 11)",
          "(5, 4)",
          "(15, 12)",
          "(10, 8)",
          "(16, 13)",
          "(11, 9)",
          "(1, 2)",
          "(4, 8)",
          "(7, 14)",
          "(3, 6)",
          "(6, 12)",
          "(8, 16)",
          "(5, 10)",
          "(2, 4)",
          "(12, 10)",
          "(6, 5)",
          "(13, 11)",
          "(14, 12)",
          "(7, 6)",
          "(15, 13)",
          "(8, 15)",
          "(8, 7)",
          "(16, 14)",
          "(7, 13)",
          "(9, 8)",
          "(6, 11)",
          "(10, 9)",
          "(11, 10)",
          "(5, 9)",
          "(12, 11)",
          "(9, 16)",
          "(13, 12)",
          "(14, 13)",
          "(15, 14)",
          "(8, 14)",
          "(4, 7)",
          "(16, 15)",
          "(7, 12)",
          "(3, 5)",
          "(9, 15)",
          "(6, 10)",
          "(1, 1)",
          "(4, 4)",
          "(9, 9)",
          "(3, 3)",
          "(12, 12)",
          "(6, 6)",
          "(15, 15)",
          "(14, 14)",
          "(11, 11)",
          "(8, 8)",
          "(16, 16)",
          "(13, 13)",
          "(5, 5)",
          "(10, 10)",
          "(7, 7)",
          "(2, 2)",
          "(8, 13)",
          "(5, 8)",
          "(10, 16)",
          "(7, 11)",
          "(9, 14)",
          "(15, 16)",
          "(14, 15)",
          "(13, 14)",
          "(12, 13)",
          "(11, 12)",
          "(4, 6)",
          "(2, 3)",
          "(10, 15)",
          "(8, 12)",
          "(6, 9)",
          "(10, 11)",
          "(9, 10)",
          "(8, 9)",
          "(11, 16)",
          "(9, 13)",
          "(7, 8)",
          "(14, 16)",
          "(7, 10)",
          "(13, 15)",
          "(6, 7)",
          "(12, 14)",
          "(5, 7)",
          "(10, 14)",
          "(11, 13)",
          "(8, 11)",
          "(5, 6)",
          "(10, 12)",
          "(11, 15)",
          "(9, 11)",
          "(12, 16)",
          "(13, 16)",
          "(6, 8)",
          "(9, 12)",
          "(3, 4)",
          "(4, 5)",
          "(12, 15)",
          "(8, 10)",
          "(10, 13)",
          "(11, 14)",
          "(7, 9)"
         ],
         "xaxis": "x",
         "y": [
          0.036470588235294116,
          0.09875,
          0.16866666666666666,
          0.24785714285714286,
          0.3392307692307692,
          0.44416666666666665,
          0.5672727272727273,
          0.6005882352941176,
          0.69,
          0.713,
          0.79,
          0.8883333333333333,
          0.8888888888888888,
          0.9028571428571428,
          0.99,
          1.03,
          1.103125,
          1.10375,
          1.1758333333333333,
          1.23,
          1.3427272727272728,
          1.372142857142857,
          1.3728571428571428,
          1.533076923076923,
          1.538,
          1.5921052631578947,
          1.7166666666666666,
          1.7172222222222222,
          1.7175,
          1.7661111111111112,
          1.7666666666666666,
          1.8552941176470588,
          1.8958823529411766,
          1.9290909090909092,
          2.006875,
          2.038125,
          2.03875,
          2.174,
          2.1745,
          2.1746666666666665,
          2.175,
          2.194,
          2.3126315789473684,
          2.3607142857142858,
          2.3657142857142857,
          2.3657142857142857,
          2.4616666666666664,
          2.462222222222222,
          2.5553846153846154,
          2.5684615384615386,
          2.6226315789473684,
          2.6241176470588234,
          2.658095238095238,
          2.765,
          2.765,
          2.765,
          2.8,
          2.8005,
          2.800625,
          2.8008333333333333,
          2.80125,
          2.9176470588235293,
          2.953157894736842,
          2.9926666666666666,
          2.997272727272727,
          3.0604545454545455,
          3.060909090909091,
          3.080625,
          3.116111111111111,
          3.2014285714285715,
          3.2014285714285715,
          3.201904761904762,
          3.255,
          3.255333333333333,
          3.2555,
          3.256,
          3.29,
          3.351,
          3.351,
          3.3942105263157893,
          3.3947826086956523,
          3.4284615384615384,
          3.442142857142857,
          3.475625,
          3.5078947368421054,
          3.5309090909090908,
          3.5394444444444444,
          3.54,
          3.64,
          3.6725,
          3.6726666666666667,
          3.6727777777777777,
          3.672857142857143,
          3.6729166666666666,
          3.6733333333333333,
          3.6733333333333333,
          3.6733333333333333,
          3.6911764705882355,
          3.7223809523809526,
          3.801304347826087,
          3.82,
          3.844705882352941,
          3.84875,
          3.849,
          3.8491666666666666,
          3.849375,
          3.85,
          3.88,
          3.9036,
          3.9327272727272726,
          3.933181818181818,
          3.971052631578947,
          3.978421052631579,
          4.011333333333333,
          4.0225,
          4.0225,
          4.0225,
          4.066363636363636,
          4.066363636363636,
          4.067142857142857,
          4.094230769230769,
          4.094615384615385,
          4.11,
          4.125,
          4.142173913043478,
          4.175714285714286,
          4.175714285714286,
          4.1761904761904765,
          4.202,
          4.202,
          4.202,
          4.2024,
          4.2025,
          4.241764705882353,
          4.251111111111111,
          4.262272727272728,
          4.278823529411765,
          4.285,
          4.285,
          4.309166666666667,
          4.309583333333333,
          4.3160869565217395,
          4.33578947368421,
          4.3392307692307694,
          4.3476923076923075,
          4.37125,
          4.3792857142857144,
          4.37952380952381,
          4.379642857142857,
          4.38,
          4.3921052631578945,
          4.407272727272727,
          4.413913043478261,
          4.42875,
          4.4416,
          4.464444444444444,
          4.464444444444444,
          4.464444444444444,
          4.483448275862069,
          4.492,
          4.493333333333333,
          4.494166666666667,
          4.494285714285715,
          4.4944444444444445,
          4.4944444444444445,
          4.494583333333333,
          4.494666666666666,
          4.495,
          4.513181818181818,
          4.513636363636364,
          4.530833333333334,
          4.544615384615384,
          4.544615384615384,
          4.556785714285715,
          4.5660869565217395,
          4.566666666666666,
          4.566666666666666,
          4.576,
          4.58235294117647,
          4.588823529411765,
          4.594736842105263,
          4.604285714285714,
          4.606428571428571,
          4.611739130434783,
          4.6176,
          4.6184,
          4.623703703703704,
          4.627931034482758,
          4.631363636363637,
          4.631818181818182,
          4.631935483870968,
          4.6489473684210525,
          4.67,
          4.670416666666667,
          4.670625,
          4.68,
          4.68125,
          4.681666666666667,
          4.681666666666667,
          4.681666666666667,
          4.681666666666667,
          4.681666666666667,
          4.681785714285715,
          4.681818181818182,
          4.681875,
          4.681875,
          4.681923076923077,
          4.682,
          4.682,
          4.682142857142857,
          4.6825,
          4.688095238095238,
          4.697692307692308,
          4.698076923076923,
          4.708888888888889,
          4.714347826086956,
          4.720645161290323,
          4.722758620689655,
          4.725555555555555,
          4.7284,
          4.731304347826087,
          4.732,
          4.732,
          4.7324,
          4.7325,
          4.732666666666667,
          4.7352380952380955,
          4.739473684210527,
          4.7441176470588236,
          4.744814814814815,
          4.747272727272727,
          4.749333333333333,
          4.749333333333333,
          4.751176470588235,
          4.7525,
          4.7553846153846155,
          4.7553846153846155,
          4.756666666666667,
          4.756666666666667,
          4.75875,
          4.760526315789473,
          4.761818181818182,
          4.761818181818182,
          4.762307692307692,
          4.765,
          4.765357142857143,
          4.76551724137931,
          4.765714285714286,
          4.765714285714286,
          4.765714285714286,
          4.766666666666667,
          4.767037037037037,
          4.767222222222222,
          4.767391304347826,
          4.7676,
          4.768125
         ],
         "yaxis": "y"
        }
       ],
       "layout": {
        "legend": {
         "tracegroupgap": 0
        },
        "margin": {
         "t": 60
        },
        "template": {
         "data": {
          "bar": [
           {
            "error_x": {
             "color": "#2a3f5f"
            },
            "error_y": {
             "color": "#2a3f5f"
            },
            "marker": {
             "line": {
              "color": "#E5ECF6",
              "width": 0.5
             },
             "pattern": {
              "fillmode": "overlay",
              "size": 10,
              "solidity": 0.2
             }
            },
            "type": "bar"
           }
          ],
          "barpolar": [
           {
            "marker": {
             "line": {
              "color": "#E5ECF6",
              "width": 0.5
             },
             "pattern": {
              "fillmode": "overlay",
              "size": 10,
              "solidity": 0.2
             }
            },
            "type": "barpolar"
           }
          ],
          "carpet": [
           {
            "aaxis": {
             "endlinecolor": "#2a3f5f",
             "gridcolor": "white",
             "linecolor": "white",
             "minorgridcolor": "white",
             "startlinecolor": "#2a3f5f"
            },
            "baxis": {
             "endlinecolor": "#2a3f5f",
             "gridcolor": "white",
             "linecolor": "white",
             "minorgridcolor": "white",
             "startlinecolor": "#2a3f5f"
            },
            "type": "carpet"
           }
          ],
          "choropleth": [
           {
            "colorbar": {
             "outlinewidth": 0,
             "ticks": ""
            },
            "type": "choropleth"
           }
          ],
          "contour": [
           {
            "colorbar": {
             "outlinewidth": 0,
             "ticks": ""
            },
            "colorscale": [
             [
              0,
              "#0d0887"
             ],
             [
              0.1111111111111111,
              "#46039f"
             ],
             [
              0.2222222222222222,
              "#7201a8"
             ],
             [
              0.3333333333333333,
              "#9c179e"
             ],
             [
              0.4444444444444444,
              "#bd3786"
             ],
             [
              0.5555555555555556,
              "#d8576b"
             ],
             [
              0.6666666666666666,
              "#ed7953"
             ],
             [
              0.7777777777777778,
              "#fb9f3a"
             ],
             [
              0.8888888888888888,
              "#fdca26"
             ],
             [
              1,
              "#f0f921"
             ]
            ],
            "type": "contour"
           }
          ],
          "contourcarpet": [
           {
            "colorbar": {
             "outlinewidth": 0,
             "ticks": ""
            },
            "type": "contourcarpet"
           }
          ],
          "heatmap": [
           {
            "colorbar": {
             "outlinewidth": 0,
             "ticks": ""
            },
            "colorscale": [
             [
              0,
              "#0d0887"
             ],
             [
              0.1111111111111111,
              "#46039f"
             ],
             [
              0.2222222222222222,
              "#7201a8"
             ],
             [
              0.3333333333333333,
              "#9c179e"
             ],
             [
              0.4444444444444444,
              "#bd3786"
             ],
             [
              0.5555555555555556,
              "#d8576b"
             ],
             [
              0.6666666666666666,
              "#ed7953"
             ],
             [
              0.7777777777777778,
              "#fb9f3a"
             ],
             [
              0.8888888888888888,
              "#fdca26"
             ],
             [
              1,
              "#f0f921"
             ]
            ],
            "type": "heatmap"
           }
          ],
          "heatmapgl": [
           {
            "colorbar": {
             "outlinewidth": 0,
             "ticks": ""
            },
            "colorscale": [
             [
              0,
              "#0d0887"
             ],
             [
              0.1111111111111111,
              "#46039f"
             ],
             [
              0.2222222222222222,
              "#7201a8"
             ],
             [
              0.3333333333333333,
              "#9c179e"
             ],
             [
              0.4444444444444444,
              "#bd3786"
             ],
             [
              0.5555555555555556,
              "#d8576b"
             ],
             [
              0.6666666666666666,
              "#ed7953"
             ],
             [
              0.7777777777777778,
              "#fb9f3a"
             ],
             [
              0.8888888888888888,
              "#fdca26"
             ],
             [
              1,
              "#f0f921"
             ]
            ],
            "type": "heatmapgl"
           }
          ],
          "histogram": [
           {
            "marker": {
             "pattern": {
              "fillmode": "overlay",
              "size": 10,
              "solidity": 0.2
             }
            },
            "type": "histogram"
           }
          ],
          "histogram2d": [
           {
            "colorbar": {
             "outlinewidth": 0,
             "ticks": ""
            },
            "colorscale": [
             [
              0,
              "#0d0887"
             ],
             [
              0.1111111111111111,
              "#46039f"
             ],
             [
              0.2222222222222222,
              "#7201a8"
             ],
             [
              0.3333333333333333,
              "#9c179e"
             ],
             [
              0.4444444444444444,
              "#bd3786"
             ],
             [
              0.5555555555555556,
              "#d8576b"
             ],
             [
              0.6666666666666666,
              "#ed7953"
             ],
             [
              0.7777777777777778,
              "#fb9f3a"
             ],
             [
              0.8888888888888888,
              "#fdca26"
             ],
             [
              1,
              "#f0f921"
             ]
            ],
            "type": "histogram2d"
           }
          ],
          "histogram2dcontour": [
           {
            "colorbar": {
             "outlinewidth": 0,
             "ticks": ""
            },
            "colorscale": [
             [
              0,
              "#0d0887"
             ],
             [
              0.1111111111111111,
              "#46039f"
             ],
             [
              0.2222222222222222,
              "#7201a8"
             ],
             [
              0.3333333333333333,
              "#9c179e"
             ],
             [
              0.4444444444444444,
              "#bd3786"
             ],
             [
              0.5555555555555556,
              "#d8576b"
             ],
             [
              0.6666666666666666,
              "#ed7953"
             ],
             [
              0.7777777777777778,
              "#fb9f3a"
             ],
             [
              0.8888888888888888,
              "#fdca26"
             ],
             [
              1,
              "#f0f921"
             ]
            ],
            "type": "histogram2dcontour"
           }
          ],
          "mesh3d": [
           {
            "colorbar": {
             "outlinewidth": 0,
             "ticks": ""
            },
            "type": "mesh3d"
           }
          ],
          "parcoords": [
           {
            "line": {
             "colorbar": {
              "outlinewidth": 0,
              "ticks": ""
             }
            },
            "type": "parcoords"
           }
          ],
          "pie": [
           {
            "automargin": true,
            "type": "pie"
           }
          ],
          "scatter": [
           {
            "marker": {
             "colorbar": {
              "outlinewidth": 0,
              "ticks": ""
             }
            },
            "type": "scatter"
           }
          ],
          "scatter3d": [
           {
            "line": {
             "colorbar": {
              "outlinewidth": 0,
              "ticks": ""
             }
            },
            "marker": {
             "colorbar": {
              "outlinewidth": 0,
              "ticks": ""
             }
            },
            "type": "scatter3d"
           }
          ],
          "scattercarpet": [
           {
            "marker": {
             "colorbar": {
              "outlinewidth": 0,
              "ticks": ""
             }
            },
            "type": "scattercarpet"
           }
          ],
          "scattergeo": [
           {
            "marker": {
             "colorbar": {
              "outlinewidth": 0,
              "ticks": ""
             }
            },
            "type": "scattergeo"
           }
          ],
          "scattergl": [
           {
            "marker": {
             "colorbar": {
              "outlinewidth": 0,
              "ticks": ""
             }
            },
            "type": "scattergl"
           }
          ],
          "scattermapbox": [
           {
            "marker": {
             "colorbar": {
              "outlinewidth": 0,
              "ticks": ""
             }
            },
            "type": "scattermapbox"
           }
          ],
          "scatterpolar": [
           {
            "marker": {
             "colorbar": {
              "outlinewidth": 0,
              "ticks": ""
             }
            },
            "type": "scatterpolar"
           }
          ],
          "scatterpolargl": [
           {
            "marker": {
             "colorbar": {
              "outlinewidth": 0,
              "ticks": ""
             }
            },
            "type": "scatterpolargl"
           }
          ],
          "scatterternary": [
           {
            "marker": {
             "colorbar": {
              "outlinewidth": 0,
              "ticks": ""
             }
            },
            "type": "scatterternary"
           }
          ],
          "surface": [
           {
            "colorbar": {
             "outlinewidth": 0,
             "ticks": ""
            },
            "colorscale": [
             [
              0,
              "#0d0887"
             ],
             [
              0.1111111111111111,
              "#46039f"
             ],
             [
              0.2222222222222222,
              "#7201a8"
             ],
             [
              0.3333333333333333,
              "#9c179e"
             ],
             [
              0.4444444444444444,
              "#bd3786"
             ],
             [
              0.5555555555555556,
              "#d8576b"
             ],
             [
              0.6666666666666666,
              "#ed7953"
             ],
             [
              0.7777777777777778,
              "#fb9f3a"
             ],
             [
              0.8888888888888888,
              "#fdca26"
             ],
             [
              1,
              "#f0f921"
             ]
            ],
            "type": "surface"
           }
          ],
          "table": [
           {
            "cells": {
             "fill": {
              "color": "#EBF0F8"
             },
             "line": {
              "color": "white"
             }
            },
            "header": {
             "fill": {
              "color": "#C8D4E3"
             },
             "line": {
              "color": "white"
             }
            },
            "type": "table"
           }
          ]
         },
         "layout": {
          "annotationdefaults": {
           "arrowcolor": "#2a3f5f",
           "arrowhead": 0,
           "arrowwidth": 1
          },
          "autotypenumbers": "strict",
          "coloraxis": {
           "colorbar": {
            "outlinewidth": 0,
            "ticks": ""
           }
          },
          "colorscale": {
           "diverging": [
            [
             0,
             "#8e0152"
            ],
            [
             0.1,
             "#c51b7d"
            ],
            [
             0.2,
             "#de77ae"
            ],
            [
             0.3,
             "#f1b6da"
            ],
            [
             0.4,
             "#fde0ef"
            ],
            [
             0.5,
             "#f7f7f7"
            ],
            [
             0.6,
             "#e6f5d0"
            ],
            [
             0.7,
             "#b8e186"
            ],
            [
             0.8,
             "#7fbc41"
            ],
            [
             0.9,
             "#4d9221"
            ],
            [
             1,
             "#276419"
            ]
           ],
           "sequential": [
            [
             0,
             "#0d0887"
            ],
            [
             0.1111111111111111,
             "#46039f"
            ],
            [
             0.2222222222222222,
             "#7201a8"
            ],
            [
             0.3333333333333333,
             "#9c179e"
            ],
            [
             0.4444444444444444,
             "#bd3786"
            ],
            [
             0.5555555555555556,
             "#d8576b"
            ],
            [
             0.6666666666666666,
             "#ed7953"
            ],
            [
             0.7777777777777778,
             "#fb9f3a"
            ],
            [
             0.8888888888888888,
             "#fdca26"
            ],
            [
             1,
             "#f0f921"
            ]
           ],
           "sequentialminus": [
            [
             0,
             "#0d0887"
            ],
            [
             0.1111111111111111,
             "#46039f"
            ],
            [
             0.2222222222222222,
             "#7201a8"
            ],
            [
             0.3333333333333333,
             "#9c179e"
            ],
            [
             0.4444444444444444,
             "#bd3786"
            ],
            [
             0.5555555555555556,
             "#d8576b"
            ],
            [
             0.6666666666666666,
             "#ed7953"
            ],
            [
             0.7777777777777778,
             "#fb9f3a"
            ],
            [
             0.8888888888888888,
             "#fdca26"
            ],
            [
             1,
             "#f0f921"
            ]
           ]
          },
          "colorway": [
           "#636efa",
           "#EF553B",
           "#00cc96",
           "#ab63fa",
           "#FFA15A",
           "#19d3f3",
           "#FF6692",
           "#B6E880",
           "#FF97FF",
           "#FECB52"
          ],
          "font": {
           "color": "#2a3f5f"
          },
          "geo": {
           "bgcolor": "white",
           "lakecolor": "white",
           "landcolor": "#E5ECF6",
           "showlakes": true,
           "showland": true,
           "subunitcolor": "white"
          },
          "hoverlabel": {
           "align": "left"
          },
          "hovermode": "closest",
          "mapbox": {
           "style": "light"
          },
          "paper_bgcolor": "white",
          "plot_bgcolor": "#E5ECF6",
          "polar": {
           "angularaxis": {
            "gridcolor": "white",
            "linecolor": "white",
            "ticks": ""
           },
           "bgcolor": "#E5ECF6",
           "radialaxis": {
            "gridcolor": "white",
            "linecolor": "white",
            "ticks": ""
           }
          },
          "scene": {
           "xaxis": {
            "backgroundcolor": "#E5ECF6",
            "gridcolor": "white",
            "gridwidth": 2,
            "linecolor": "white",
            "showbackground": true,
            "ticks": "",
            "zerolinecolor": "white"
           },
           "yaxis": {
            "backgroundcolor": "#E5ECF6",
            "gridcolor": "white",
            "gridwidth": 2,
            "linecolor": "white",
            "showbackground": true,
            "ticks": "",
            "zerolinecolor": "white"
           },
           "zaxis": {
            "backgroundcolor": "#E5ECF6",
            "gridcolor": "white",
            "gridwidth": 2,
            "linecolor": "white",
            "showbackground": true,
            "ticks": "",
            "zerolinecolor": "white"
           }
          },
          "shapedefaults": {
           "line": {
            "color": "#2a3f5f"
           }
          },
          "ternary": {
           "aaxis": {
            "gridcolor": "white",
            "linecolor": "white",
            "ticks": ""
           },
           "baxis": {
            "gridcolor": "white",
            "linecolor": "white",
            "ticks": ""
           },
           "bgcolor": "#E5ECF6",
           "caxis": {
            "gridcolor": "white",
            "linecolor": "white",
            "ticks": ""
           }
          },
          "title": {
           "x": 0.05
          },
          "xaxis": {
           "automargin": true,
           "gridcolor": "white",
           "linecolor": "white",
           "ticks": "",
           "title": {
            "standoff": 15
           },
           "zerolinecolor": "white",
           "zerolinewidth": 2
          },
          "yaxis": {
           "automargin": true,
           "gridcolor": "white",
           "linecolor": "white",
           "ticks": "",
           "title": {
            "standoff": 15
           },
           "zerolinecolor": "white",
           "zerolinewidth": 2
          }
         }
        },
        "xaxis": {
         "anchor": "y",
         "domain": [
          0,
          1
         ],
         "title": {
          "text": "body"
         }
        },
        "yaxis": {
         "anchor": "x",
         "domain": [
          0,
          1
         ],
         "title": {
          "text": "cost_benefit"
         }
        }
       }
      }
     },
     "metadata": {},
     "output_type": "display_data"
    }
   ],
   "source": [
    "px.scatter(df, x=\"body\", y=\"cost_benefit\")"
   ]
  },
  {
   "cell_type": "code",
   "execution_count": 108,
   "metadata": {},
   "outputs": [
    {
     "data": {
      "application/vnd.plotly.v1+json": {
       "config": {
        "plotlyServerURL": "https://plot.ly"
       },
       "data": [
        {
         "hovertemplate": "ratio=%{x}<br>cost_benefit=%{y}<extra></extra>",
         "legendgroup": "",
         "marker": {
          "color": "#636efa",
          "symbol": "circle"
         },
         "mode": "markers",
         "name": "",
         "orientation": "v",
         "showlegend": false,
         "type": "scatter",
         "x": [
          0.0625,
          0.06666666666666667,
          0.07142857142857142,
          0.07692307692307693,
          0.08333333333333333,
          0.09090909090909091,
          0.1,
          16,
          15,
          0.1111111111111111,
          14,
          0.125,
          0.125,
          13,
          0.13333333333333333,
          12,
          0.14285714285714285,
          0.14285714285714285,
          11,
          0.15384615384615385,
          10,
          0.16666666666666666,
          0.16666666666666666,
          0.18181818181818182,
          9,
          0.1875,
          0.2,
          0.2,
          0.2,
          8,
          8,
          0.21428571428571427,
          7.5,
          0.2222222222222222,
          0.23076923076923078,
          7,
          7,
          0.25,
          0.25,
          0.25,
          0.25,
          6.5,
          0.26666666666666666,
          0.2727272727272727,
          6,
          6,
          0.2857142857142857,
          0.2857142857142857,
          5.5,
          0.3,
          5.333333333333333,
          0.3076923076923077,
          0.3125,
          5,
          5,
          5,
          0.3333333333333333,
          0.3333333333333333,
          0.3333333333333333,
          0.3333333333333333,
          0.3333333333333333,
          4.666666666666667,
          0.35714285714285715,
          0.36363636363636365,
          4.5,
          0.375,
          0.375,
          4.333333333333333,
          0.38461538461538464,
          0.4,
          0.4,
          0.4,
          4,
          4,
          4,
          4,
          0.4166666666666667,
          0.42857142857142855,
          0.42857142857142855,
          3.75,
          0.4375,
          0.4444444444444444,
          3.6666666666666665,
          0.45454545454545453,
          0.46153846153846156,
          0.4666666666666667,
          3.5,
          3.5,
          3.3333333333333335,
          0.5,
          0.5,
          0.5,
          0.5,
          0.5,
          0.5,
          0.5,
          0.5,
          3.25,
          3.2,
          0.5333333333333333,
          0.5384615384615384,
          0.5454545454545454,
          3,
          3,
          3,
          3,
          3,
          0.5555555555555556,
          0.5625,
          0.5714285714285714,
          0.5714285714285714,
          0.5833333333333334,
          2.8,
          2.75,
          0.6,
          0.6,
          0.6,
          2.6666666666666665,
          2.6666666666666665,
          0.6153846153846154,
          0.625,
          0.625,
          2.6,
          0.6363636363636364,
          0.6428571428571429,
          2.5,
          2.5,
          2.5,
          0.6666666666666666,
          0.6666666666666666,
          0.6666666666666666,
          0.6666666666666666,
          0.6666666666666666,
          2.4,
          0.6875,
          0.6923076923076923,
          0.7,
          2.3333333333333335,
          2.3333333333333335,
          0.7142857142857143,
          0.7142857142857143,
          2.2857142857142856,
          0.7272727272727273,
          2.25,
          0.7333333333333333,
          2.2,
          0.75,
          0.75,
          0.75,
          0.75,
          2.1666666666666665,
          2.142857142857143,
          0.7692307692307693,
          0.7777777777777778,
          0.7857142857142857,
          0.8,
          0.8,
          0.8,
          0.8125,
          0.8181818181818182,
          2,
          2,
          2,
          2,
          2,
          2,
          2,
          2,
          0.8333333333333334,
          0.8333333333333334,
          0.8461538461538461,
          0.8571428571428571,
          0.8571428571428571,
          0.8666666666666667,
          1.875,
          0.875,
          0.875,
          1.8571428571428572,
          0.8888888888888888,
          1.8333333333333333,
          0.9,
          0.9090909090909091,
          1.8,
          0.9166666666666666,
          1.7777777777777777,
          0.9230769230769231,
          0.9285714285714286,
          0.9333333333333333,
          1.75,
          1.75,
          0.9375,
          1.7142857142857142,
          1.6666666666666667,
          1.6666666666666667,
          1.6666666666666667,
          1,
          1,
          1,
          1,
          1,
          1,
          1,
          1,
          1,
          1,
          1,
          1,
          1,
          1,
          1,
          1,
          1.625,
          1.6,
          1.6,
          1.5714285714285714,
          1.5555555555555556,
          1.0666666666666667,
          1.0714285714285714,
          1.0769230769230769,
          1.0833333333333333,
          1.0909090909090908,
          1.5,
          1.5,
          1.5,
          1.5,
          1.5,
          1.1,
          1.1111111111111112,
          1.125,
          1.4545454545454546,
          1.4444444444444444,
          1.1428571428571428,
          1.1428571428571428,
          1.4285714285714286,
          1.1538461538461537,
          1.1666666666666667,
          1.1666666666666667,
          1.4,
          1.4,
          1.1818181818181819,
          1.375,
          1.2,
          1.2,
          1.3636363636363635,
          1.2222222222222223,
          1.3333333333333333,
          1.2307692307692308,
          1.3333333333333333,
          1.3333333333333333,
          1.3333333333333333,
          1.25,
          1.25,
          1.25,
          1.3,
          1.2727272727272727,
          1.2857142857142858
         ],
         "xaxis": "x",
         "y": [
          0.036470588235294116,
          0.09875,
          0.16866666666666666,
          0.24785714285714286,
          0.3392307692307692,
          0.44416666666666665,
          0.5672727272727273,
          0.6005882352941176,
          0.69,
          0.713,
          0.79,
          0.8883333333333333,
          0.8888888888888888,
          0.9028571428571428,
          0.99,
          1.03,
          1.103125,
          1.10375,
          1.1758333333333333,
          1.23,
          1.3427272727272728,
          1.372142857142857,
          1.3728571428571428,
          1.533076923076923,
          1.538,
          1.5921052631578947,
          1.7166666666666666,
          1.7172222222222222,
          1.7175,
          1.7661111111111112,
          1.7666666666666666,
          1.8552941176470588,
          1.8958823529411766,
          1.9290909090909092,
          2.006875,
          2.038125,
          2.03875,
          2.174,
          2.1745,
          2.1746666666666665,
          2.175,
          2.194,
          2.3126315789473684,
          2.3607142857142858,
          2.3657142857142857,
          2.3657142857142857,
          2.4616666666666664,
          2.462222222222222,
          2.5553846153846154,
          2.5684615384615386,
          2.6226315789473684,
          2.6241176470588234,
          2.658095238095238,
          2.765,
          2.765,
          2.765,
          2.8,
          2.8005,
          2.800625,
          2.8008333333333333,
          2.80125,
          2.9176470588235293,
          2.953157894736842,
          2.9926666666666666,
          2.997272727272727,
          3.0604545454545455,
          3.060909090909091,
          3.080625,
          3.116111111111111,
          3.2014285714285715,
          3.2014285714285715,
          3.201904761904762,
          3.255,
          3.255333333333333,
          3.2555,
          3.256,
          3.29,
          3.351,
          3.351,
          3.3942105263157893,
          3.3947826086956523,
          3.4284615384615384,
          3.442142857142857,
          3.475625,
          3.5078947368421054,
          3.5309090909090908,
          3.5394444444444444,
          3.54,
          3.64,
          3.6725,
          3.6726666666666667,
          3.6727777777777777,
          3.672857142857143,
          3.6729166666666666,
          3.6733333333333333,
          3.6733333333333333,
          3.6733333333333333,
          3.6911764705882355,
          3.7223809523809526,
          3.801304347826087,
          3.82,
          3.844705882352941,
          3.84875,
          3.849,
          3.8491666666666666,
          3.849375,
          3.85,
          3.88,
          3.9036,
          3.9327272727272726,
          3.933181818181818,
          3.971052631578947,
          3.978421052631579,
          4.011333333333333,
          4.0225,
          4.0225,
          4.0225,
          4.066363636363636,
          4.066363636363636,
          4.067142857142857,
          4.094230769230769,
          4.094615384615385,
          4.11,
          4.125,
          4.142173913043478,
          4.175714285714286,
          4.175714285714286,
          4.1761904761904765,
          4.202,
          4.202,
          4.202,
          4.2024,
          4.2025,
          4.241764705882353,
          4.251111111111111,
          4.262272727272728,
          4.278823529411765,
          4.285,
          4.285,
          4.309166666666667,
          4.309583333333333,
          4.3160869565217395,
          4.33578947368421,
          4.3392307692307694,
          4.3476923076923075,
          4.37125,
          4.3792857142857144,
          4.37952380952381,
          4.379642857142857,
          4.38,
          4.3921052631578945,
          4.407272727272727,
          4.413913043478261,
          4.42875,
          4.4416,
          4.464444444444444,
          4.464444444444444,
          4.464444444444444,
          4.483448275862069,
          4.492,
          4.493333333333333,
          4.494166666666667,
          4.494285714285715,
          4.4944444444444445,
          4.4944444444444445,
          4.494583333333333,
          4.494666666666666,
          4.495,
          4.513181818181818,
          4.513636363636364,
          4.530833333333334,
          4.544615384615384,
          4.544615384615384,
          4.556785714285715,
          4.5660869565217395,
          4.566666666666666,
          4.566666666666666,
          4.576,
          4.58235294117647,
          4.588823529411765,
          4.594736842105263,
          4.604285714285714,
          4.606428571428571,
          4.611739130434783,
          4.6176,
          4.6184,
          4.623703703703704,
          4.627931034482758,
          4.631363636363637,
          4.631818181818182,
          4.631935483870968,
          4.6489473684210525,
          4.67,
          4.670416666666667,
          4.670625,
          4.68,
          4.68125,
          4.681666666666667,
          4.681666666666667,
          4.681666666666667,
          4.681666666666667,
          4.681666666666667,
          4.681785714285715,
          4.681818181818182,
          4.681875,
          4.681875,
          4.681923076923077,
          4.682,
          4.682,
          4.682142857142857,
          4.6825,
          4.688095238095238,
          4.697692307692308,
          4.698076923076923,
          4.708888888888889,
          4.714347826086956,
          4.720645161290323,
          4.722758620689655,
          4.725555555555555,
          4.7284,
          4.731304347826087,
          4.732,
          4.732,
          4.7324,
          4.7325,
          4.732666666666667,
          4.7352380952380955,
          4.739473684210527,
          4.7441176470588236,
          4.744814814814815,
          4.747272727272727,
          4.749333333333333,
          4.749333333333333,
          4.751176470588235,
          4.7525,
          4.7553846153846155,
          4.7553846153846155,
          4.756666666666667,
          4.756666666666667,
          4.75875,
          4.760526315789473,
          4.761818181818182,
          4.761818181818182,
          4.762307692307692,
          4.765,
          4.765357142857143,
          4.76551724137931,
          4.765714285714286,
          4.765714285714286,
          4.765714285714286,
          4.766666666666667,
          4.767037037037037,
          4.767222222222222,
          4.767391304347826,
          4.7676,
          4.768125
         ],
         "yaxis": "y"
        }
       ],
       "layout": {
        "legend": {
         "tracegroupgap": 0
        },
        "margin": {
         "t": 60
        },
        "template": {
         "data": {
          "bar": [
           {
            "error_x": {
             "color": "#2a3f5f"
            },
            "error_y": {
             "color": "#2a3f5f"
            },
            "marker": {
             "line": {
              "color": "#E5ECF6",
              "width": 0.5
             },
             "pattern": {
              "fillmode": "overlay",
              "size": 10,
              "solidity": 0.2
             }
            },
            "type": "bar"
           }
          ],
          "barpolar": [
           {
            "marker": {
             "line": {
              "color": "#E5ECF6",
              "width": 0.5
             },
             "pattern": {
              "fillmode": "overlay",
              "size": 10,
              "solidity": 0.2
             }
            },
            "type": "barpolar"
           }
          ],
          "carpet": [
           {
            "aaxis": {
             "endlinecolor": "#2a3f5f",
             "gridcolor": "white",
             "linecolor": "white",
             "minorgridcolor": "white",
             "startlinecolor": "#2a3f5f"
            },
            "baxis": {
             "endlinecolor": "#2a3f5f",
             "gridcolor": "white",
             "linecolor": "white",
             "minorgridcolor": "white",
             "startlinecolor": "#2a3f5f"
            },
            "type": "carpet"
           }
          ],
          "choropleth": [
           {
            "colorbar": {
             "outlinewidth": 0,
             "ticks": ""
            },
            "type": "choropleth"
           }
          ],
          "contour": [
           {
            "colorbar": {
             "outlinewidth": 0,
             "ticks": ""
            },
            "colorscale": [
             [
              0,
              "#0d0887"
             ],
             [
              0.1111111111111111,
              "#46039f"
             ],
             [
              0.2222222222222222,
              "#7201a8"
             ],
             [
              0.3333333333333333,
              "#9c179e"
             ],
             [
              0.4444444444444444,
              "#bd3786"
             ],
             [
              0.5555555555555556,
              "#d8576b"
             ],
             [
              0.6666666666666666,
              "#ed7953"
             ],
             [
              0.7777777777777778,
              "#fb9f3a"
             ],
             [
              0.8888888888888888,
              "#fdca26"
             ],
             [
              1,
              "#f0f921"
             ]
            ],
            "type": "contour"
           }
          ],
          "contourcarpet": [
           {
            "colorbar": {
             "outlinewidth": 0,
             "ticks": ""
            },
            "type": "contourcarpet"
           }
          ],
          "heatmap": [
           {
            "colorbar": {
             "outlinewidth": 0,
             "ticks": ""
            },
            "colorscale": [
             [
              0,
              "#0d0887"
             ],
             [
              0.1111111111111111,
              "#46039f"
             ],
             [
              0.2222222222222222,
              "#7201a8"
             ],
             [
              0.3333333333333333,
              "#9c179e"
             ],
             [
              0.4444444444444444,
              "#bd3786"
             ],
             [
              0.5555555555555556,
              "#d8576b"
             ],
             [
              0.6666666666666666,
              "#ed7953"
             ],
             [
              0.7777777777777778,
              "#fb9f3a"
             ],
             [
              0.8888888888888888,
              "#fdca26"
             ],
             [
              1,
              "#f0f921"
             ]
            ],
            "type": "heatmap"
           }
          ],
          "heatmapgl": [
           {
            "colorbar": {
             "outlinewidth": 0,
             "ticks": ""
            },
            "colorscale": [
             [
              0,
              "#0d0887"
             ],
             [
              0.1111111111111111,
              "#46039f"
             ],
             [
              0.2222222222222222,
              "#7201a8"
             ],
             [
              0.3333333333333333,
              "#9c179e"
             ],
             [
              0.4444444444444444,
              "#bd3786"
             ],
             [
              0.5555555555555556,
              "#d8576b"
             ],
             [
              0.6666666666666666,
              "#ed7953"
             ],
             [
              0.7777777777777778,
              "#fb9f3a"
             ],
             [
              0.8888888888888888,
              "#fdca26"
             ],
             [
              1,
              "#f0f921"
             ]
            ],
            "type": "heatmapgl"
           }
          ],
          "histogram": [
           {
            "marker": {
             "pattern": {
              "fillmode": "overlay",
              "size": 10,
              "solidity": 0.2
             }
            },
            "type": "histogram"
           }
          ],
          "histogram2d": [
           {
            "colorbar": {
             "outlinewidth": 0,
             "ticks": ""
            },
            "colorscale": [
             [
              0,
              "#0d0887"
             ],
             [
              0.1111111111111111,
              "#46039f"
             ],
             [
              0.2222222222222222,
              "#7201a8"
             ],
             [
              0.3333333333333333,
              "#9c179e"
             ],
             [
              0.4444444444444444,
              "#bd3786"
             ],
             [
              0.5555555555555556,
              "#d8576b"
             ],
             [
              0.6666666666666666,
              "#ed7953"
             ],
             [
              0.7777777777777778,
              "#fb9f3a"
             ],
             [
              0.8888888888888888,
              "#fdca26"
             ],
             [
              1,
              "#f0f921"
             ]
            ],
            "type": "histogram2d"
           }
          ],
          "histogram2dcontour": [
           {
            "colorbar": {
             "outlinewidth": 0,
             "ticks": ""
            },
            "colorscale": [
             [
              0,
              "#0d0887"
             ],
             [
              0.1111111111111111,
              "#46039f"
             ],
             [
              0.2222222222222222,
              "#7201a8"
             ],
             [
              0.3333333333333333,
              "#9c179e"
             ],
             [
              0.4444444444444444,
              "#bd3786"
             ],
             [
              0.5555555555555556,
              "#d8576b"
             ],
             [
              0.6666666666666666,
              "#ed7953"
             ],
             [
              0.7777777777777778,
              "#fb9f3a"
             ],
             [
              0.8888888888888888,
              "#fdca26"
             ],
             [
              1,
              "#f0f921"
             ]
            ],
            "type": "histogram2dcontour"
           }
          ],
          "mesh3d": [
           {
            "colorbar": {
             "outlinewidth": 0,
             "ticks": ""
            },
            "type": "mesh3d"
           }
          ],
          "parcoords": [
           {
            "line": {
             "colorbar": {
              "outlinewidth": 0,
              "ticks": ""
             }
            },
            "type": "parcoords"
           }
          ],
          "pie": [
           {
            "automargin": true,
            "type": "pie"
           }
          ],
          "scatter": [
           {
            "marker": {
             "colorbar": {
              "outlinewidth": 0,
              "ticks": ""
             }
            },
            "type": "scatter"
           }
          ],
          "scatter3d": [
           {
            "line": {
             "colorbar": {
              "outlinewidth": 0,
              "ticks": ""
             }
            },
            "marker": {
             "colorbar": {
              "outlinewidth": 0,
              "ticks": ""
             }
            },
            "type": "scatter3d"
           }
          ],
          "scattercarpet": [
           {
            "marker": {
             "colorbar": {
              "outlinewidth": 0,
              "ticks": ""
             }
            },
            "type": "scattercarpet"
           }
          ],
          "scattergeo": [
           {
            "marker": {
             "colorbar": {
              "outlinewidth": 0,
              "ticks": ""
             }
            },
            "type": "scattergeo"
           }
          ],
          "scattergl": [
           {
            "marker": {
             "colorbar": {
              "outlinewidth": 0,
              "ticks": ""
             }
            },
            "type": "scattergl"
           }
          ],
          "scattermapbox": [
           {
            "marker": {
             "colorbar": {
              "outlinewidth": 0,
              "ticks": ""
             }
            },
            "type": "scattermapbox"
           }
          ],
          "scatterpolar": [
           {
            "marker": {
             "colorbar": {
              "outlinewidth": 0,
              "ticks": ""
             }
            },
            "type": "scatterpolar"
           }
          ],
          "scatterpolargl": [
           {
            "marker": {
             "colorbar": {
              "outlinewidth": 0,
              "ticks": ""
             }
            },
            "type": "scatterpolargl"
           }
          ],
          "scatterternary": [
           {
            "marker": {
             "colorbar": {
              "outlinewidth": 0,
              "ticks": ""
             }
            },
            "type": "scatterternary"
           }
          ],
          "surface": [
           {
            "colorbar": {
             "outlinewidth": 0,
             "ticks": ""
            },
            "colorscale": [
             [
              0,
              "#0d0887"
             ],
             [
              0.1111111111111111,
              "#46039f"
             ],
             [
              0.2222222222222222,
              "#7201a8"
             ],
             [
              0.3333333333333333,
              "#9c179e"
             ],
             [
              0.4444444444444444,
              "#bd3786"
             ],
             [
              0.5555555555555556,
              "#d8576b"
             ],
             [
              0.6666666666666666,
              "#ed7953"
             ],
             [
              0.7777777777777778,
              "#fb9f3a"
             ],
             [
              0.8888888888888888,
              "#fdca26"
             ],
             [
              1,
              "#f0f921"
             ]
            ],
            "type": "surface"
           }
          ],
          "table": [
           {
            "cells": {
             "fill": {
              "color": "#EBF0F8"
             },
             "line": {
              "color": "white"
             }
            },
            "header": {
             "fill": {
              "color": "#C8D4E3"
             },
             "line": {
              "color": "white"
             }
            },
            "type": "table"
           }
          ]
         },
         "layout": {
          "annotationdefaults": {
           "arrowcolor": "#2a3f5f",
           "arrowhead": 0,
           "arrowwidth": 1
          },
          "autotypenumbers": "strict",
          "coloraxis": {
           "colorbar": {
            "outlinewidth": 0,
            "ticks": ""
           }
          },
          "colorscale": {
           "diverging": [
            [
             0,
             "#8e0152"
            ],
            [
             0.1,
             "#c51b7d"
            ],
            [
             0.2,
             "#de77ae"
            ],
            [
             0.3,
             "#f1b6da"
            ],
            [
             0.4,
             "#fde0ef"
            ],
            [
             0.5,
             "#f7f7f7"
            ],
            [
             0.6,
             "#e6f5d0"
            ],
            [
             0.7,
             "#b8e186"
            ],
            [
             0.8,
             "#7fbc41"
            ],
            [
             0.9,
             "#4d9221"
            ],
            [
             1,
             "#276419"
            ]
           ],
           "sequential": [
            [
             0,
             "#0d0887"
            ],
            [
             0.1111111111111111,
             "#46039f"
            ],
            [
             0.2222222222222222,
             "#7201a8"
            ],
            [
             0.3333333333333333,
             "#9c179e"
            ],
            [
             0.4444444444444444,
             "#bd3786"
            ],
            [
             0.5555555555555556,
             "#d8576b"
            ],
            [
             0.6666666666666666,
             "#ed7953"
            ],
            [
             0.7777777777777778,
             "#fb9f3a"
            ],
            [
             0.8888888888888888,
             "#fdca26"
            ],
            [
             1,
             "#f0f921"
            ]
           ],
           "sequentialminus": [
            [
             0,
             "#0d0887"
            ],
            [
             0.1111111111111111,
             "#46039f"
            ],
            [
             0.2222222222222222,
             "#7201a8"
            ],
            [
             0.3333333333333333,
             "#9c179e"
            ],
            [
             0.4444444444444444,
             "#bd3786"
            ],
            [
             0.5555555555555556,
             "#d8576b"
            ],
            [
             0.6666666666666666,
             "#ed7953"
            ],
            [
             0.7777777777777778,
             "#fb9f3a"
            ],
            [
             0.8888888888888888,
             "#fdca26"
            ],
            [
             1,
             "#f0f921"
            ]
           ]
          },
          "colorway": [
           "#636efa",
           "#EF553B",
           "#00cc96",
           "#ab63fa",
           "#FFA15A",
           "#19d3f3",
           "#FF6692",
           "#B6E880",
           "#FF97FF",
           "#FECB52"
          ],
          "font": {
           "color": "#2a3f5f"
          },
          "geo": {
           "bgcolor": "white",
           "lakecolor": "white",
           "landcolor": "#E5ECF6",
           "showlakes": true,
           "showland": true,
           "subunitcolor": "white"
          },
          "hoverlabel": {
           "align": "left"
          },
          "hovermode": "closest",
          "mapbox": {
           "style": "light"
          },
          "paper_bgcolor": "white",
          "plot_bgcolor": "#E5ECF6",
          "polar": {
           "angularaxis": {
            "gridcolor": "white",
            "linecolor": "white",
            "ticks": ""
           },
           "bgcolor": "#E5ECF6",
           "radialaxis": {
            "gridcolor": "white",
            "linecolor": "white",
            "ticks": ""
           }
          },
          "scene": {
           "xaxis": {
            "backgroundcolor": "#E5ECF6",
            "gridcolor": "white",
            "gridwidth": 2,
            "linecolor": "white",
            "showbackground": true,
            "ticks": "",
            "zerolinecolor": "white"
           },
           "yaxis": {
            "backgroundcolor": "#E5ECF6",
            "gridcolor": "white",
            "gridwidth": 2,
            "linecolor": "white",
            "showbackground": true,
            "ticks": "",
            "zerolinecolor": "white"
           },
           "zaxis": {
            "backgroundcolor": "#E5ECF6",
            "gridcolor": "white",
            "gridwidth": 2,
            "linecolor": "white",
            "showbackground": true,
            "ticks": "",
            "zerolinecolor": "white"
           }
          },
          "shapedefaults": {
           "line": {
            "color": "#2a3f5f"
           }
          },
          "ternary": {
           "aaxis": {
            "gridcolor": "white",
            "linecolor": "white",
            "ticks": ""
           },
           "baxis": {
            "gridcolor": "white",
            "linecolor": "white",
            "ticks": ""
           },
           "bgcolor": "#E5ECF6",
           "caxis": {
            "gridcolor": "white",
            "linecolor": "white",
            "ticks": ""
           }
          },
          "title": {
           "x": 0.05
          },
          "xaxis": {
           "automargin": true,
           "gridcolor": "white",
           "linecolor": "white",
           "ticks": "",
           "title": {
            "standoff": 15
           },
           "zerolinecolor": "white",
           "zerolinewidth": 2
          },
          "yaxis": {
           "automargin": true,
           "gridcolor": "white",
           "linecolor": "white",
           "ticks": "",
           "title": {
            "standoff": 15
           },
           "zerolinecolor": "white",
           "zerolinewidth": 2
          }
         }
        },
        "xaxis": {
         "anchor": "y",
         "domain": [
          0,
          1
         ],
         "title": {
          "text": "ratio"
         }
        },
        "yaxis": {
         "anchor": "x",
         "domain": [
          0,
          1
         ],
         "title": {
          "text": "cost_benefit"
         }
        }
       }
      }
     },
     "metadata": {},
     "output_type": "display_data"
    }
   ],
   "source": [
    "px.scatter(df, x=\"ratio\", y=\"cost_benefit\")"
   ]
  }
 ],
 "metadata": {
  "interpreter": {
   "hash": "bef0c5f623afad266f3ebfc322d905384acc92af67b07fd7328f33b15b7c40c6"
  },
  "kernelspec": {
   "display_name": "Python 3.9.12 ('screeps')",
   "language": "python",
   "name": "python3"
  },
  "language_info": {
   "codemirror_mode": {
    "name": "ipython",
    "version": 3
   },
   "file_extension": ".py",
   "mimetype": "text/x-python",
   "name": "python",
   "nbconvert_exporter": "python",
   "pygments_lexer": "ipython3",
   "version": "3.9.12"
  },
  "orig_nbformat": 4
 },
 "nbformat": 4,
 "nbformat_minor": 2
}
